{
 "cells": [
  {
   "cell_type": "code",
   "execution_count": null,
   "id": "7ca33340",
   "metadata": {},
   "outputs": [
    {
     "name": "stderr",
     "output_type": "stream",
     "text": [
      "Exception in Tkinter callback\n",
      "Traceback (most recent call last):\n",
      "  File \"C:\\Users\\vashu\\anaconda3\\lib\\tkinter\\__init__.py\", line 1892, in __call__\n",
      "    return self.func(*args)\n",
      "  File \"C:\\Users\\vashu\\AppData\\Local\\Temp\\ipykernel_21188\\1338924725.py\", line 19, in radiobutton\n",
      "    return messagebo.showinfo('Radio Button',F'you selected {output}.')\n",
      "NameError: name 'messagebo' is not defined\n",
      "Exception in Tkinter callback\n",
      "Traceback (most recent call last):\n",
      "  File \"C:\\Users\\vashu\\anaconda3\\lib\\tkinter\\__init__.py\", line 1892, in __call__\n",
      "    return self.func(*args)\n",
      "  File \"C:\\Users\\vashu\\AppData\\Local\\Temp\\ipykernel_21188\\1338924725.py\", line 19, in radiobutton\n",
      "    return messagebo.showinfo('Radio Button',F'you selected {output}.')\n",
      "NameError: name 'messagebo' is not defined\n",
      "Exception in Tkinter callback\n",
      "Traceback (most recent call last):\n",
      "  File \"C:\\Users\\vashu\\anaconda3\\lib\\tkinter\\__init__.py\", line 1892, in __call__\n",
      "    return self.func(*args)\n",
      "  File \"C:\\Users\\vashu\\AppData\\Local\\Temp\\ipykernel_21188\\1338924725.py\", line 19, in radiobutton\n",
      "    return messagebo.showinfo('Radio Button',F'you selected {output}.')\n",
      "NameError: name 'messagebo' is not defined\n"
     ]
    }
   ],
   "source": [
    "import tkinter as tk\n",
    "from tkinter import*\n",
    "from tkinter import messagebox\n",
    "\n",
    "root = tk.Tk()\n",
    "root.geometry('600x500+300+100')\n",
    "root.title('Radio Buttons')\n",
    "root.configure(bg = 'cyan')\n",
    "def radiobutton():\n",
    "    choice = var.get()\n",
    "    if choice == 1:\n",
    "        output =\"PHP\"\n",
    "    elif choice == 2:\n",
    "        output = \"Python\"\n",
    "    elif choice == 3:\n",
    "        output = \"Oracle\"\n",
    "    else:\n",
    "        output = \"Inavalid selection\"\n",
    "        return messagebo.showinfo('Radio Button',F'you selected {output}.')\n",
    "var = IntVar()\n",
    "Radiobutton (root, text = \"PHP\", variable = var, value = 1, command = radiobutton).pack()\n",
    "Radiobutton (root, text = \"Python\", variable = var, value = 2, command = radiobutton).pack()\n",
    "Radiobutton (root, text = \"Oracle\", variable = var, value = 1, command = radiobutton).pack()\n",
    "\n",
    "root.mainloop()"
   ]
  },
  {
   "cell_type": "code",
   "execution_count": null,
   "id": "0844789d",
   "metadata": {},
   "outputs": [],
   "source": []
  }
 ],
 "metadata": {
  "kernelspec": {
   "display_name": "Python 3 (ipykernel)",
   "language": "python",
   "name": "python3"
  },
  "language_info": {
   "codemirror_mode": {
    "name": "ipython",
    "version": 3
   },
   "file_extension": ".py",
   "mimetype": "text/x-python",
   "name": "python",
   "nbconvert_exporter": "python",
   "pygments_lexer": "ipython3",
   "version": "3.9.12"
  }
 },
 "nbformat": 4,
 "nbformat_minor": 5
}
