{
 "cells": [
  {
   "cell_type": "code",
   "execution_count": 2,
   "id": "cb90c6a4",
   "metadata": {},
   "outputs": [
    {
     "ename": "SyntaxError",
     "evalue": "invalid syntax (3558708714.py, line 21)",
     "output_type": "error",
     "traceback": [
      "\u001b[1;36m  Input \u001b[1;32mIn [2]\u001b[1;36m\u001b[0m\n\u001b[1;33m    if Email!=None and username!=None and contact_no!=None and npasswd!=None and passwd\u001b[0m\n\u001b[1;37m                                                                                       ^\u001b[0m\n\u001b[1;31mSyntaxError\u001b[0m\u001b[1;31m:\u001b[0m invalid syntax\n"
     ]
    }
   ],
   "source": [
    "import tkinter as tk\n",
    "from tkinter import *\n",
    "from tkinter import StringVar\n",
    "root = tk.Tk()\n",
    "root.geometry('600x500+300+100')\n",
    "root.title('Sign Up Page')\n",
    "root.configure(bg = 'black')\n",
    "l = Label(root, bg = 'black', font = ('Gentium Plus', 15, 'bold'), fg = 'white')\n",
    "l.place(x=90, y=400)\n",
    "def Submit():\n",
    "    Email = StringVar()\n",
    "username = StringVar()\n",
    "contact_no = StringVar()\n",
    "npasswd = StringVar()\n",
    "passwd = StringVar()\n",
    "Email = e1.get()\n",
    "username = e2.get()\n",
    "contact_no = e3.get()\n",
    "npasswd = e4.get()\n",
    "passwd = e5.get()\n",
    "if Email!=None and username!=None and contact_no!=None and npasswd!=None and passwd\n",
    "if len(contact_no) == 10:\n",
    "if npasswd == passwd:\n",
    "print(\"Welcome Mam/Sir..😊😊😊\")\n",
    "l.configure(text = f'Welcome {username} to our services..😊😊')\n",
    "else:\n",
    "print(\"You have invaild credentials\")\n",
    "l.configure(text = f'Sorry {username} your password does not match')\n",
    "else:\n",
    "print(\"Number must contain 10 digits\")\n",
    "l.configure(text = \"Error! Number must contain 10 digits..\")\n",
    "else:\n",
    "print(\"You have invalid credentials\")\n",
    "l.configure(text = f'Sorry {username} your username and password was incorrect'\n",
    "l0 = Label(root, text = 'SIGN UP HERE', bg = 'black', width = 25, font = ('Gentium Plus\n",
    "l0.place(x=15, y=20)\n",
    "l1 = Label(root, text = 'E-mail', bg = 'yellow', width = 20, bd = 5, font = ('Gentium P\n",
    "l1.place(x=100, y=110)\n",
    "l2 = Label(root, text = 'Username', bg = 'yellow', width = 20, font = ('Gentium Plus',\n",
    "l2.place(x=100, y=150)\n",
    "l3 = Label(root, text = 'Contact_No', bg = 'yellow', width = 20, font = ('Gentium Plus'\n",
    "l3.place(x=100, y=190)\n",
    "l4 = Label(root, text = 'New Password', bg = 'yellow', width = 20, font = ('Gentium Plu\n",
    "l4.place(x=100, y=230)\n",
    "l5 = Label(root, text = 'Confirm Password', bg = 'yellow', width = 20, font = ('Gentium\n",
    "l5.place(x=100, y=270)\n",
    "e1 = Entry(root, width = 30, bd = 2, font=('Gentium Plus', 10))\n",
    "e1.place(x=300, y=110)\n",
    "e2 = Entry(root, width = 30, bd = 2, font=('Gentium Plus', 10))\n",
    "e2.place(x=300, y=150)\n",
    "e3 = Entry(root, width = 30, bd = 2, font=('Gentium Plus', 10))\n",
    "e3.place(x=300, y=190)\n",
    "e4 = Entry(root, width = 30, bd = 2, font=('Gentium Plus', 10))\n",
    "e4.place(x=300, y=230)\n",
    "e5 = Entry(root, width = 30, bd = 2, font=('Gentium Plus', 10))\n",
    "e5.place(x=300, y=270)\n",
    "b1 = Button(root, text = 'SUBMIT', bg = 'cyan', width = 10, command = Submit, font = ('\n",
    "b1.place(x=270, y=320)\n",
    "root.mainloop()"
   ]
  },
  {
   "cell_type": "code",
   "execution_count": 2,
   "id": "279ad079",
   "metadata": {},
   "outputs": [
    {
     "ename": "NameError",
     "evalue": "name 'Lable' is not defined",
     "output_type": "error",
     "traceback": [
      "\u001b[1;31m---------------------------------------------------------------------------\u001b[0m",
      "\u001b[1;31mNameError\u001b[0m                                 Traceback (most recent call last)",
      "Input \u001b[1;32mIn [2]\u001b[0m, in \u001b[0;36m<cell line: 7>\u001b[1;34m()\u001b[0m\n\u001b[0;32m      5\u001b[0m root\u001b[38;5;241m.\u001b[39mtitle(\u001b[38;5;124m'\u001b[39m\u001b[38;5;124mFrame widget\u001b[39m\u001b[38;5;124m'\u001b[39m)\n\u001b[0;32m      6\u001b[0m root\u001b[38;5;241m.\u001b[39mconfigure(bg \u001b[38;5;241m=\u001b[39m \u001b[38;5;124m'\u001b[39m\u001b[38;5;124mRed\u001b[39m\u001b[38;5;124m'\u001b[39m)\n\u001b[1;32m----> 7\u001b[0m l \u001b[38;5;241m=\u001b[39m \u001b[43mLable\u001b[49m (root, text \u001b[38;5;241m=\u001b[39m \u001b[38;5;124m'\u001b[39m\u001b[38;5;124mFrame Widget\u001b[39m\u001b[38;5;124m'\u001b[39m, fg \u001b[38;5;241m=\u001b[39m \u001b[38;5;124m'\u001b[39m\u001b[38;5;124mblack\u001b[39m\u001b[38;5;124m'\u001b[39m,bg \u001b[38;5;241m=\u001b[39m \u001b[38;5;124m'\u001b[39m\u001b[38;5;124myellow\u001b[39m\u001b[38;5;124m'\u001b[39m, front \u001b[38;5;241m=\u001b[39m (\u001b[38;5;124m'\u001b[39m\u001b[38;5;124mtimesnewroman\u001b[39m\u001b[38;5;124m'\u001b[39m, \u001b[38;5;241m20\u001b[39m, \u001b[38;5;124m'\u001b[39m\u001b[38;5;124mbold\u001b[39m\u001b[38;5;124m'\u001b[39m), width \u001b[38;5;241m=\u001b[39m \u001b[38;5;241m15\u001b[39m,\n\u001b[0;32m      8\u001b[0m           height \u001b[38;5;241m=\u001b[39m \u001b[38;5;241m3\u001b[39m, bd \u001b[38;5;241m=\u001b[39m \u001b[38;5;241m5\u001b[39m, relief \u001b[38;5;241m=\u001b[39m \u001b[38;5;124m'\u001b[39m\u001b[38;5;124msunken\u001b[39m\u001b[38;5;124m'\u001b[39m)\n\u001b[0;32m      9\u001b[0m l\u001b[38;5;241m.\u001b[39mpack()\n\u001b[0;32m     11\u001b[0m \u001b[38;5;66;03m#Frame:\u001b[39;00m\n",
      "\u001b[1;31mNameError\u001b[0m: name 'Lable' is not defined"
     ]
    }
   ],
   "source": [
    "import tkinter as tk\n",
    "from tkinter import*\n",
    "root = tk.Tk()\n",
    "root.geometry('600x500+300+100')\n",
    "root.title('Frame widget')\n",
    "root.configure(bg = 'Red')\n",
    "l = Lable (root, text = 'Frame Widget', fg = 'black',bg = 'yellow', front = ('timesnewroman', 20, 'bold'), width = 15,\n",
    "          height = 3, bd = 5, relief = 'sunken')\n",
    "l.pack()\n",
    "\n",
    "#Frame:\n",
    "f = Frame(root, width  = 350, height = 450, bd = 5, relief = 'solid', bg = 'cyan')\n",
    "f.pack()\n",
    "\n",
    "l1 = Label(f, bg ='pink', text ='vashu', width = 20, height = 4,bd = 3,relief = 'sunken', fg = 'black',\n",
    "          font = ('timesnewroman',10, 'bold'))\n",
    "l1.pack()\n",
    "\n",
    "l2 = Label(f, bg ='red', text ='gori', width = 20, height = 4,bd = 3,relief = 'groove', fg = 'black',\n",
    "          font = ('timesnewroman',10, 'bold'))\n",
    "l2.pack()\n",
    "\n",
    "l3 = Label(f, bg ='yellow', text ='Alok', width = 20, height = 4,bd = 3,relief = 'solid', fg = 'black',\n",
    "          font = ('timesnewroman',10, 'bold'))\n",
    "l3.pack()\n",
    "root.mainloop()"
   ]
  },
  {
   "cell_type": "code",
   "execution_count": null,
   "id": "2f9fa157",
   "metadata": {},
   "outputs": [],
   "source": []
  }
 ],
 "metadata": {
  "kernelspec": {
   "display_name": "Python 3 (ipykernel)",
   "language": "python",
   "name": "python3"
  },
  "language_info": {
   "codemirror_mode": {
    "name": "ipython",
    "version": 3
   },
   "file_extension": ".py",
   "mimetype": "text/x-python",
   "name": "python",
   "nbconvert_exporter": "python",
   "pygments_lexer": "ipython3",
   "version": "3.9.12"
  }
 },
 "nbformat": 4,
 "nbformat_minor": 5
}
